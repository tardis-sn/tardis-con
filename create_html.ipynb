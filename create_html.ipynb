{
 "cells": [
  {
   "cell_type": "markdown",
   "metadata": {},
   "source": [
    "Notebook to create new html pages"
   ]
  },
  {
   "cell_type": "code",
   "execution_count": 11,
   "metadata": {},
   "outputs": [],
   "source": [
    "from pathlib import Path\n",
    "from jinja2 import Environment, FileSystemLoader\n",
    "from datetime import datetime"
   ]
  },
  {
   "cell_type": "code",
   "execution_count": 12,
   "metadata": {},
   "outputs": [],
   "source": [
    "TEMPLATE_PATH = Path(\"templates\")\n",
    "HOSTING_PATH = Path(\"all_events\")\n",
    "environment = Environment(\n",
    "    loader=FileSystemLoader(TEMPLATE_PATH),\n",
    "    extensions=[\"jinja2.ext.loopcontrols\", \"jinja2.ext.do\"],\n",
    ")"
   ]
  },
  {
   "cell_type": "code",
   "execution_count": 13,
   "metadata": {},
   "outputs": [],
   "source": [
    "# YYYY/MM/DD format\n",
    "start_date = \"2024/07/08\"\n",
    "end_date = \"2024/07/19\"\n",
    "start_date_datetime = datetime.strptime(start_date, \"%Y/%m/%d\")\n",
    "end_date_datetime = datetime.strptime(end_date, \"%Y/%m/%d\")\n",
    "event_year = end_date_datetime.year\n",
    "html_page_name = f\"{event_year}.html\""
   ]
  },
  {
   "cell_type": "code",
   "execution_count": 14,
   "metadata": {},
   "outputs": [],
   "source": [
    "page_template = environment.get_template(\"landingpage.html\")\n",
    "template_level = html_page_name.count(\"/\")\n",
    "page_html_path = html_page_name\n",
    "page_content = page_template.render(\n",
    "    TEMPLATE_LEVEL=template_level,\n",
    "    start_date=start_date_datetime,\n",
    "    end_date=end_date_datetime,\n",
    "    event_year=event_year,\n",
    ")\n",
    "with open(page_html_path, mode=\"w\", encoding=\"utf-8\") as page:\n",
    "    page.write(page_content)"
   ]
  },
  {
   "cell_type": "code",
   "execution_count": 15,
   "metadata": {},
   "outputs": [],
   "source": [
    "page_template = environment.get_template(\"index_template.html\")\n",
    "template_level = html_page_name.count(\"/\")\n",
    "index_html_path = \"index.html\"\n",
    "index_page_content = page_template.render(\n",
    "    TEMPLATE_LEVEL=template_level,\n",
    "    current_year=event_year\n",
    ")\n",
    "with open(index_html_path, mode=\"w\", encoding=\"utf-8\") as index_page:\n",
    "    index_page.write(index_page_content)"
   ]
  }
 ],
 "metadata": {
  "kernelspec": {
   "display_name": "Python 3",
   "language": "python",
   "name": "python3"
  },
  "language_info": {
   "codemirror_mode": {
    "name": "ipython",
    "version": 3
   },
   "file_extension": ".py",
   "mimetype": "text/x-python",
   "name": "python",
   "nbconvert_exporter": "python",
   "pygments_lexer": "ipython3",
   "version": "3.10.12"
  }
 },
 "nbformat": 4,
 "nbformat_minor": 2
}
